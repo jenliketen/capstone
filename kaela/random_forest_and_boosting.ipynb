{
 "cells": [
  {
   "cell_type": "code",
   "execution_count": 6,
   "metadata": {},
   "outputs": [],
   "source": [
    "import numpy as np\n",
    "import pandas as pd\n",
    "import seaborn as sns\n",
    "from matplotlib import pyplot as plt\n",
    "\n",
    "from sklearn.preprocessing import StandardScaler\n",
    "from sklearn.preprocessing import MinMaxScaler\n",
    "from sklearn.model_selection import train_test_split\n",
    "from sklearn.metrics import mean_squared_error\n",
    "from sklearn.metrics import r2_score\n",
    "from sklearn.metrics import accuracy_score\n",
    "from statsmodels.stats.outliers_influence import variance_inflation_factor\n",
    "from sklearn.model_selection import cross_val_score, GridSearchCV\n",
    "from sklearn.utils import resample\n",
    "\n",
    "from sklearn.tree import DecisionTreeRegressor\n",
    "from sklearn.ensemble import RandomForestClassifier\n",
    "from sklearn.ensemble import RandomForestRegressor\n",
    "from sklearn.ensemble import AdaBoostRegressor\n",
    "from sklearn.ensemble import GradientBoostingRegressor"
   ]
  },
  {
   "cell_type": "code",
   "execution_count": 2,
   "metadata": {},
   "outputs": [],
   "source": [
    "import warnings\n",
    "warnings.filterwarnings('ignore')"
   ]
  },
  {
   "cell_type": "markdown",
   "metadata": {},
   "source": [
    "Function to shift death count outcome forward by 1 year. **Note**: function removes any zipcodes without full 6 years from the data set, because it messes up the shifting and shouldnt be included in the model."
   ]
  },
  {
   "cell_type": "code",
   "execution_count": null,
   "metadata": {},
   "outputs": [],
   "source": [
    "def remove_zip_and_shift(df):\n",
    "    # find zips with missing years between 2011 - 2016\n",
    "    zipp = list(np.unique(df.zip))\n",
    "    zs = []\n",
    "    for z in zipp:\n",
    "        sub = df[df.zip == z]\n",
    "        if np.unique(sub.AYEAR).shape[0] != 6:\n",
    "            zs.append(z)\n",
    "\n",
    "    # find zips that have all 6 years\n",
    "    zip_to_keep = list(np.setdiff1d(list(df.zip.values),zs))\n",
    "\n",
    "    # only keep data with zips for all 6 years\n",
    "    sub_zip = df[df.zip.isin(zip_to_keep)]\n",
    "\n",
    "    # shift death count and dead variables by 1 year, so outcome is adjusted\n",
    "    zip_df_new = sub_zip.copy()\n",
    "    zip_df_new['death'] = zip_df_new.groupby(zip_df_new['zip'])['death'].shift(-1)\n",
    "    zip_df_new['dead'] = zip_df_new.groupby(zip_df_new['zip'])['dead'].shift(-1)\n",
    "\n",
    "    return zip_df_new"
   ]
  },
  {
   "cell_type": "markdown",
   "metadata": {},
   "source": [
    "Functions to standardize."
   ]
  },
  {
   "cell_type": "code",
   "execution_count": 3,
   "metadata": {},
   "outputs": [],
   "source": [
    "def standardize(non_binary_predictors, X_train, X_test=None):\n",
    "    \n",
    "    scaler = StandardScaler().fit(X_train[non_binary_predictors])\n",
    "    \n",
    "    # if x_test is passed in, or just x_train \n",
    "    if X_test is not None:\n",
    "        X_train[non_binary_predictors] = scaler.transform(X_train[non_binary_predictors])\n",
    "        X_test[non_binary_predictors] = scaler.transform(X_test[non_binary_predictors])\n",
    "        return X_train, X_test\n",
    "    else:\n",
    "        X_train[non_binary_predictors] = scaler.transform(X_train[non_binary_predictors])\n",
    "        return X_train  \n",
    "\n",
    "def split_and_standardize(df, x_cols, y_col, non_binary_preds, interact_cols=None):\n",
    "    # separate into X and y\n",
    "    X = df[x_cols]\n",
    "    y = df[y_col]\n",
    "    \n",
    "    if interact_cols != None:\n",
    "        for i,c in enumerate(interact_cols.keys()):\n",
    "            X[c] = X[interact_cols[c][0]]*X[interact_cols[c][1]]\n",
    "    \n",
    "    # split into train and test\n",
    "    X_train, X_test, y_train, y_test = train_test_split(X, y, test_size=0.25, random_state=109)\n",
    "    \n",
    "    # standardize\n",
    "    X_train_standardized, X_test_standardized = standardize(non_binary_preds, X_train,X_test)\n",
    "    \n",
    "    return X_train_standardized, y_train, X_test_standardized, y_test"
   ]
  },
  {
   "cell_type": "code",
   "execution_count": 4,
   "metadata": {},
   "outputs": [],
   "source": [
    "df_train = pd.read_csv('zip_train_v2.csv')\n",
    "df_test= pd.read_csv('zip_test_v2.csv')"
   ]
  },
  {
   "cell_type": "code",
   "execution_count": 5,
   "metadata": {},
   "outputs": [],
   "source": [
    "x_col = ['sex', 'age','poverty', 'popdensity', 'medianhousevalue', \n",
    "        'medhouseholdincome', 'pct_owner_occ','education',\n",
    "        'smoke_rate', 'mean_bmi', 'rmax', 'pr', 'race_0', 'race_1', 'race_2',\n",
    "        'race_3', 'race_4', 'race_5', 'race_6','ICU_DAY', 'CCI_DAY', 'LOS', \n",
    "        'Parkinson_pdx2dx_25','Alzheimer_pdx2dx_25', 'Dementia_pdx2dx_25', 'CHF_pdx2dx_25',\n",
    "       'AMI_pdx2dx_25', 'COPD_pdx2dx_25', 'DM_pdx2dx_25', 'Stroke_pdx2dx_25',\n",
    "       'CVD_pdx2dx_25', 'Ischemic_stroke_pdx2dx_25','Hemo_Stroke_pdx2dx_25',\n",
    "        'neo_140_149', 'neo_150_159', 'neo_160_165',\n",
    "       'neo_170_176', 'neo_179_189', 'neo_190_199', 'neo_200_209',\n",
    "       'neo_210_229', 'neo_230_234', 'neo_235_238', 'neo_239','pm25_summer_4y_avg', \n",
    "       'pm25_winter_4y_avg', 'pm25_fall_4y_avg', 'pm25_spring_4y_avg','ozone_summer_4y_avg', 'ozone_winter_4y_avg', \n",
    "       'ozone_fall_4y_avg', 'ozone_spring_4y_avg','no2_summer_4y_avg', 'no2_winter_4y_avg', 'no2_fall_4y_avg', \n",
    "       'no2_spring_4y_avg', 'summer_tmmx_4y_avg','summer_rmax_4y_avg', 'winter_tmmx_4y_avg', 'winter_rmax_4y_avg']\n",
    "\n",
    "y_col = 'death'\n",
    "non_binary_preds = x_col\n",
    "\n",
    "# split into train and test and standardize\n",
    "X_train_standardized, y_train, X_test_standardized, y_test = split_and_standardize(df_train, x_col, y_col, non_binary_preds)\n"
   ]
  },
  {
   "cell_type": "markdown",
   "metadata": {},
   "source": [
    "**Bagging & Simple Decision Trees**"
   ]
  },
  {
   "cell_type": "code",
   "execution_count": 6,
   "metadata": {},
   "outputs": [],
   "source": [
    "def bagger(n_trees: int, tree_depth: int,  random_seed=0) -> (pd.DataFrame, pd.DataFrame, list):\n",
    "\n",
    "    #n_depths = len(tree_depth)\n",
    "    np.random.seed(random_seed)\n",
    "    bagging_train = np.zeros((X_train_standardized.shape[0], n_trees))\n",
    "    bagging_test = np.zeros((X_test_standardized.shape[0], n_trees))\n",
    "\n",
    "    bagging_models = []\n",
    "\n",
    "    for i in range(n_trees):\n",
    "        bootstrapped_X, bootstrapped_y = resample(X_train_standardized, y_train)\n",
    "        fitted_model = DecisionTreeRegressor(max_depth=tree_depth).fit(bootstrapped_X, bootstrapped_y)\n",
    "        bagging_models.append(fitted_model)\n",
    "\n",
    "        bagging_train[:,i] = fitted_model.predict(X_train_standardized)\n",
    "        bagging_test[:,i] = fitted_model.predict(X_test_standardized)\n",
    "    \n",
    "    return  pd.DataFrame(bagging_train[:,:], columns=[f\"model{x}\" for x in range(n_trees)]) \\\n",
    "        , pd.DataFrame(bagging_test[:,:], columns=[f\"model{x}\" for x in range(n_trees)]) \\\n",
    "        , bagging_models"
   ]
  },
  {
   "cell_type": "code",
   "execution_count": 7,
   "metadata": {},
   "outputs": [
    {
     "data": {
      "text/html": [
       "<div>\n",
       "<style scoped>\n",
       "    .dataframe tbody tr th:only-of-type {\n",
       "        vertical-align: middle;\n",
       "    }\n",
       "\n",
       "    .dataframe tbody tr th {\n",
       "        vertical-align: top;\n",
       "    }\n",
       "\n",
       "    .dataframe thead th {\n",
       "        text-align: right;\n",
       "    }\n",
       "</style>\n",
       "<table border=\"1\" class=\"dataframe\">\n",
       "  <thead>\n",
       "    <tr style=\"text-align: right;\">\n",
       "      <th></th>\n",
       "      <th>model0</th>\n",
       "      <th>model1</th>\n",
       "      <th>model2</th>\n",
       "      <th>model3</th>\n",
       "      <th>model4</th>\n",
       "      <th>model5</th>\n",
       "      <th>model6</th>\n",
       "      <th>model7</th>\n",
       "      <th>model8</th>\n",
       "      <th>model9</th>\n",
       "      <th>...</th>\n",
       "      <th>model20</th>\n",
       "      <th>model21</th>\n",
       "      <th>model22</th>\n",
       "      <th>model23</th>\n",
       "      <th>model24</th>\n",
       "      <th>model25</th>\n",
       "      <th>model26</th>\n",
       "      <th>model27</th>\n",
       "      <th>model28</th>\n",
       "      <th>model29</th>\n",
       "    </tr>\n",
       "  </thead>\n",
       "  <tbody>\n",
       "    <tr>\n",
       "      <th>0</th>\n",
       "      <td>21.662941</td>\n",
       "      <td>25.194811</td>\n",
       "      <td>26.079620</td>\n",
       "      <td>25.656647</td>\n",
       "      <td>26.582811</td>\n",
       "      <td>25.510121</td>\n",
       "      <td>25.024586</td>\n",
       "      <td>25.596203</td>\n",
       "      <td>23.675429</td>\n",
       "      <td>24.271733</td>\n",
       "      <td>...</td>\n",
       "      <td>23.296954</td>\n",
       "      <td>27.371179</td>\n",
       "      <td>25.720207</td>\n",
       "      <td>23.094692</td>\n",
       "      <td>27.194985</td>\n",
       "      <td>22.924812</td>\n",
       "      <td>22.113158</td>\n",
       "      <td>21.179281</td>\n",
       "      <td>26.404125</td>\n",
       "      <td>25.100390</td>\n",
       "    </tr>\n",
       "    <tr>\n",
       "      <th>1</th>\n",
       "      <td>25.734028</td>\n",
       "      <td>25.194811</td>\n",
       "      <td>27.473200</td>\n",
       "      <td>25.581081</td>\n",
       "      <td>22.870130</td>\n",
       "      <td>23.440533</td>\n",
       "      <td>31.902688</td>\n",
       "      <td>25.629317</td>\n",
       "      <td>22.197279</td>\n",
       "      <td>26.603886</td>\n",
       "      <td>...</td>\n",
       "      <td>29.974879</td>\n",
       "      <td>26.359096</td>\n",
       "      <td>25.411304</td>\n",
       "      <td>26.779393</td>\n",
       "      <td>21.257246</td>\n",
       "      <td>28.135057</td>\n",
       "      <td>25.893921</td>\n",
       "      <td>24.470155</td>\n",
       "      <td>29.443585</td>\n",
       "      <td>25.560197</td>\n",
       "    </tr>\n",
       "    <tr>\n",
       "      <th>2</th>\n",
       "      <td>3216.610169</td>\n",
       "      <td>2660.110803</td>\n",
       "      <td>3085.016949</td>\n",
       "      <td>2567.183607</td>\n",
       "      <td>2654.869565</td>\n",
       "      <td>2680.916031</td>\n",
       "      <td>2784.661765</td>\n",
       "      <td>2945.231746</td>\n",
       "      <td>2893.962825</td>\n",
       "      <td>2900.990476</td>\n",
       "      <td>...</td>\n",
       "      <td>2652.783290</td>\n",
       "      <td>3195.114894</td>\n",
       "      <td>3020.882759</td>\n",
       "      <td>3012.301639</td>\n",
       "      <td>3121.776316</td>\n",
       "      <td>2642.363077</td>\n",
       "      <td>2966.076503</td>\n",
       "      <td>2681.777778</td>\n",
       "      <td>3357.875000</td>\n",
       "      <td>3191.340000</td>\n",
       "    </tr>\n",
       "    <tr>\n",
       "      <th>3</th>\n",
       "      <td>863.916898</td>\n",
       "      <td>908.814491</td>\n",
       "      <td>761.954717</td>\n",
       "      <td>801.024155</td>\n",
       "      <td>730.521327</td>\n",
       "      <td>787.432258</td>\n",
       "      <td>886.321826</td>\n",
       "      <td>860.228571</td>\n",
       "      <td>724.328571</td>\n",
       "      <td>750.839248</td>\n",
       "      <td>...</td>\n",
       "      <td>737.085366</td>\n",
       "      <td>926.436950</td>\n",
       "      <td>853.476378</td>\n",
       "      <td>841.211600</td>\n",
       "      <td>794.008264</td>\n",
       "      <td>784.048193</td>\n",
       "      <td>749.232990</td>\n",
       "      <td>755.104839</td>\n",
       "      <td>917.539474</td>\n",
       "      <td>823.341682</td>\n",
       "    </tr>\n",
       "    <tr>\n",
       "      <th>4</th>\n",
       "      <td>85.485597</td>\n",
       "      <td>94.775457</td>\n",
       "      <td>89.237557</td>\n",
       "      <td>81.996692</td>\n",
       "      <td>85.017403</td>\n",
       "      <td>79.358300</td>\n",
       "      <td>78.115804</td>\n",
       "      <td>75.242938</td>\n",
       "      <td>92.394449</td>\n",
       "      <td>99.111342</td>\n",
       "      <td>...</td>\n",
       "      <td>80.859589</td>\n",
       "      <td>89.470075</td>\n",
       "      <td>89.251232</td>\n",
       "      <td>107.590909</td>\n",
       "      <td>91.720617</td>\n",
       "      <td>88.358261</td>\n",
       "      <td>91.282974</td>\n",
       "      <td>120.766816</td>\n",
       "      <td>99.087068</td>\n",
       "      <td>103.099634</td>\n",
       "    </tr>\n",
       "  </tbody>\n",
       "</table>\n",
       "<p>5 rows × 30 columns</p>\n",
       "</div>"
      ],
      "text/plain": [
       "        model0       model1       model2       model3       model4  \\\n",
       "0    21.662941    25.194811    26.079620    25.656647    26.582811   \n",
       "1    25.734028    25.194811    27.473200    25.581081    22.870130   \n",
       "2  3216.610169  2660.110803  3085.016949  2567.183607  2654.869565   \n",
       "3   863.916898   908.814491   761.954717   801.024155   730.521327   \n",
       "4    85.485597    94.775457    89.237557    81.996692    85.017403   \n",
       "\n",
       "        model5       model6       model7       model8       model9  ...  \\\n",
       "0    25.510121    25.024586    25.596203    23.675429    24.271733  ...   \n",
       "1    23.440533    31.902688    25.629317    22.197279    26.603886  ...   \n",
       "2  2680.916031  2784.661765  2945.231746  2893.962825  2900.990476  ...   \n",
       "3   787.432258   886.321826   860.228571   724.328571   750.839248  ...   \n",
       "4    79.358300    78.115804    75.242938    92.394449    99.111342  ...   \n",
       "\n",
       "       model20      model21      model22      model23      model24  \\\n",
       "0    23.296954    27.371179    25.720207    23.094692    27.194985   \n",
       "1    29.974879    26.359096    25.411304    26.779393    21.257246   \n",
       "2  2652.783290  3195.114894  3020.882759  3012.301639  3121.776316   \n",
       "3   737.085366   926.436950   853.476378   841.211600   794.008264   \n",
       "4    80.859589    89.470075    89.251232   107.590909    91.720617   \n",
       "\n",
       "       model25      model26      model27      model28      model29  \n",
       "0    22.924812    22.113158    21.179281    26.404125    25.100390  \n",
       "1    28.135057    25.893921    24.470155    29.443585    25.560197  \n",
       "2  2642.363077  2966.076503  2681.777778  3357.875000  3191.340000  \n",
       "3   784.048193   749.232990   755.104839   917.539474   823.341682  \n",
       "4    88.358261    91.282974   120.766816    99.087068   103.099634  \n",
       "\n",
       "[5 rows x 30 columns]"
      ]
     },
     "metadata": {},
     "output_type": "display_data"
    },
    {
     "data": {
      "text/html": [
       "<div>\n",
       "<style scoped>\n",
       "    .dataframe tbody tr th:only-of-type {\n",
       "        vertical-align: middle;\n",
       "    }\n",
       "\n",
       "    .dataframe tbody tr th {\n",
       "        vertical-align: top;\n",
       "    }\n",
       "\n",
       "    .dataframe thead th {\n",
       "        text-align: right;\n",
       "    }\n",
       "</style>\n",
       "<table border=\"1\" class=\"dataframe\">\n",
       "  <thead>\n",
       "    <tr style=\"text-align: right;\">\n",
       "      <th></th>\n",
       "      <th>model0</th>\n",
       "      <th>model1</th>\n",
       "      <th>model2</th>\n",
       "      <th>model3</th>\n",
       "      <th>model4</th>\n",
       "      <th>model5</th>\n",
       "      <th>model6</th>\n",
       "      <th>model7</th>\n",
       "      <th>model8</th>\n",
       "      <th>model9</th>\n",
       "      <th>...</th>\n",
       "      <th>model20</th>\n",
       "      <th>model21</th>\n",
       "      <th>model22</th>\n",
       "      <th>model23</th>\n",
       "      <th>model24</th>\n",
       "      <th>model25</th>\n",
       "      <th>model26</th>\n",
       "      <th>model27</th>\n",
       "      <th>model28</th>\n",
       "      <th>model29</th>\n",
       "    </tr>\n",
       "  </thead>\n",
       "  <tbody>\n",
       "    <tr>\n",
       "      <th>0</th>\n",
       "      <td>373.382979</td>\n",
       "      <td>301.190383</td>\n",
       "      <td>307.015564</td>\n",
       "      <td>356.058552</td>\n",
       "      <td>311.457746</td>\n",
       "      <td>289.875000</td>\n",
       "      <td>436.688406</td>\n",
       "      <td>441.140845</td>\n",
       "      <td>319.632860</td>\n",
       "      <td>358.792683</td>\n",
       "      <td>...</td>\n",
       "      <td>375.849785</td>\n",
       "      <td>460.393443</td>\n",
       "      <td>343.821682</td>\n",
       "      <td>277.417722</td>\n",
       "      <td>325.956325</td>\n",
       "      <td>378.238289</td>\n",
       "      <td>248.666667</td>\n",
       "      <td>421.339450</td>\n",
       "      <td>396.848485</td>\n",
       "      <td>250.487805</td>\n",
       "    </tr>\n",
       "    <tr>\n",
       "      <th>1</th>\n",
       "      <td>1680.800000</td>\n",
       "      <td>1636.000000</td>\n",
       "      <td>1874.769231</td>\n",
       "      <td>1598.117647</td>\n",
       "      <td>1838.571429</td>\n",
       "      <td>1794.857143</td>\n",
       "      <td>1802.769231</td>\n",
       "      <td>1583.172414</td>\n",
       "      <td>2292.000000</td>\n",
       "      <td>1770.857143</td>\n",
       "      <td>...</td>\n",
       "      <td>2018.488889</td>\n",
       "      <td>1679.368421</td>\n",
       "      <td>1632.000000</td>\n",
       "      <td>2098.956522</td>\n",
       "      <td>1613.600000</td>\n",
       "      <td>1488.000000</td>\n",
       "      <td>1236.000000</td>\n",
       "      <td>1754.950820</td>\n",
       "      <td>1611.428571</td>\n",
       "      <td>1632.000000</td>\n",
       "    </tr>\n",
       "    <tr>\n",
       "      <th>2</th>\n",
       "      <td>1410.479290</td>\n",
       "      <td>1597.962887</td>\n",
       "      <td>1887.090909</td>\n",
       "      <td>1782.109325</td>\n",
       "      <td>1598.137652</td>\n",
       "      <td>1870.941176</td>\n",
       "      <td>1514.381853</td>\n",
       "      <td>1623.269036</td>\n",
       "      <td>1483.111501</td>\n",
       "      <td>1601.785714</td>\n",
       "      <td>...</td>\n",
       "      <td>1485.456954</td>\n",
       "      <td>1494.059406</td>\n",
       "      <td>1186.000000</td>\n",
       "      <td>1342.784810</td>\n",
       "      <td>1328.188235</td>\n",
       "      <td>1574.559557</td>\n",
       "      <td>1464.883436</td>\n",
       "      <td>1451.521951</td>\n",
       "      <td>1225.378723</td>\n",
       "      <td>1966.530612</td>\n",
       "    </tr>\n",
       "    <tr>\n",
       "      <th>3</th>\n",
       "      <td>15.019022</td>\n",
       "      <td>17.054645</td>\n",
       "      <td>18.782518</td>\n",
       "      <td>13.209448</td>\n",
       "      <td>12.599847</td>\n",
       "      <td>13.440918</td>\n",
       "      <td>17.039024</td>\n",
       "      <td>16.033605</td>\n",
       "      <td>17.840968</td>\n",
       "      <td>14.368564</td>\n",
       "      <td>...</td>\n",
       "      <td>17.690755</td>\n",
       "      <td>12.845574</td>\n",
       "      <td>18.868298</td>\n",
       "      <td>12.866667</td>\n",
       "      <td>12.447982</td>\n",
       "      <td>12.692359</td>\n",
       "      <td>16.255419</td>\n",
       "      <td>14.467213</td>\n",
       "      <td>14.797863</td>\n",
       "      <td>11.265144</td>\n",
       "    </tr>\n",
       "    <tr>\n",
       "      <th>4</th>\n",
       "      <td>11.445183</td>\n",
       "      <td>10.129936</td>\n",
       "      <td>9.740389</td>\n",
       "      <td>13.209448</td>\n",
       "      <td>10.076336</td>\n",
       "      <td>10.482293</td>\n",
       "      <td>10.247750</td>\n",
       "      <td>10.142798</td>\n",
       "      <td>9.778886</td>\n",
       "      <td>10.339442</td>\n",
       "      <td>...</td>\n",
       "      <td>10.763249</td>\n",
       "      <td>11.783005</td>\n",
       "      <td>10.193673</td>\n",
       "      <td>10.178496</td>\n",
       "      <td>12.447982</td>\n",
       "      <td>9.311026</td>\n",
       "      <td>11.871586</td>\n",
       "      <td>11.164856</td>\n",
       "      <td>9.392903</td>\n",
       "      <td>11.265144</td>\n",
       "    </tr>\n",
       "  </tbody>\n",
       "</table>\n",
       "<p>5 rows × 30 columns</p>\n",
       "</div>"
      ],
      "text/plain": [
       "        model0       model1       model2       model3       model4  \\\n",
       "0   373.382979   301.190383   307.015564   356.058552   311.457746   \n",
       "1  1680.800000  1636.000000  1874.769231  1598.117647  1838.571429   \n",
       "2  1410.479290  1597.962887  1887.090909  1782.109325  1598.137652   \n",
       "3    15.019022    17.054645    18.782518    13.209448    12.599847   \n",
       "4    11.445183    10.129936     9.740389    13.209448    10.076336   \n",
       "\n",
       "        model5       model6       model7       model8       model9  ...  \\\n",
       "0   289.875000   436.688406   441.140845   319.632860   358.792683  ...   \n",
       "1  1794.857143  1802.769231  1583.172414  2292.000000  1770.857143  ...   \n",
       "2  1870.941176  1514.381853  1623.269036  1483.111501  1601.785714  ...   \n",
       "3    13.440918    17.039024    16.033605    17.840968    14.368564  ...   \n",
       "4    10.482293    10.247750    10.142798     9.778886    10.339442  ...   \n",
       "\n",
       "       model20      model21      model22      model23      model24  \\\n",
       "0   375.849785   460.393443   343.821682   277.417722   325.956325   \n",
       "1  2018.488889  1679.368421  1632.000000  2098.956522  1613.600000   \n",
       "2  1485.456954  1494.059406  1186.000000  1342.784810  1328.188235   \n",
       "3    17.690755    12.845574    18.868298    12.866667    12.447982   \n",
       "4    10.763249    11.783005    10.193673    10.178496    12.447982   \n",
       "\n",
       "       model25      model26      model27      model28      model29  \n",
       "0   378.238289   248.666667   421.339450   396.848485   250.487805  \n",
       "1  1488.000000  1236.000000  1754.950820  1611.428571  1632.000000  \n",
       "2  1574.559557  1464.883436  1451.521951  1225.378723  1966.530612  \n",
       "3    12.692359    16.255419    14.467213    14.797863    11.265144  \n",
       "4     9.311026    11.871586    11.164856     9.392903    11.265144  \n",
       "\n",
       "[5 rows x 30 columns]"
      ]
     },
     "metadata": {},
     "output_type": "display_data"
    }
   ],
   "source": [
    "n_trees = 30 \n",
    "tree_depth = 10\n",
    "bagging_train_df, bagging_test_df, bagging_models = bagger(n_trees, tree_depth,  random_seed= 0)\n",
    "display(bagging_train_df.head())\n",
    "display(bagging_test_df.head())"
   ]
  },
  {
   "cell_type": "code",
   "execution_count": 8,
   "metadata": {},
   "outputs": [
    {
     "name": "stdout",
     "output_type": "stream",
     "text": [
      "Bagging 30 of depth 10 achieved a score of 0.9407105947635653 on the train set.\n",
      "Bagging 30 of depth 10 achieved a score of 0.9255025421070099 on the test set.\n"
     ]
    }
   ],
   "source": [
    "bagging_train_pred = np.mean(bagging_train_df, axis=1) \n",
    "bagging_test_pred = np.mean(bagging_test_df, axis=1)\n",
    "\n",
    "bagging_accuracy_train = r2_score(y_train, bagging_train_pred)\n",
    "bagging_accuracy_test = r2_score(y_test, bagging_test_pred)\n",
    "\n",
    "print(f\"Bagging {n_trees} of depth {tree_depth} achieved a score of {bagging_accuracy_train} on the train set.\")\n",
    "print(f\"Bagging {n_trees} of depth {tree_depth} achieved a score of {bagging_accuracy_test} on the test set.\")\n"
   ]
  },
  {
   "cell_type": "code",
   "execution_count": 9,
   "metadata": {},
   "outputs": [
    {
     "data": {
      "text/html": [
       "<div>\n",
       "<style scoped>\n",
       "    .dataframe tbody tr th:only-of-type {\n",
       "        vertical-align: middle;\n",
       "    }\n",
       "\n",
       "    .dataframe tbody tr th {\n",
       "        vertical-align: top;\n",
       "    }\n",
       "\n",
       "    .dataframe thead th {\n",
       "        text-align: right;\n",
       "    }\n",
       "</style>\n",
       "<table border=\"1\" class=\"dataframe\">\n",
       "  <thead>\n",
       "    <tr style=\"text-align: right;\">\n",
       "      <th></th>\n",
       "      <th>Count</th>\n",
       "    </tr>\n",
       "  </thead>\n",
       "  <tbody>\n",
       "    <tr>\n",
       "      <th>CVD_pdx2dx_25</th>\n",
       "      <td>30</td>\n",
       "    </tr>\n",
       "  </tbody>\n",
       "</table>\n",
       "</div>"
      ],
      "text/plain": [
       "               Count\n",
       "CVD_pdx2dx_25     30"
      ]
     },
     "metadata": {},
     "output_type": "display_data"
    }
   ],
   "source": [
    "top_predictors_bagging = [X_train_standardized.columns[model.tree_.feature[0]] for model in bagging_models]\n",
    "top_predictors_bagging_df = pd.DataFrame(pd.Series(top_predictors_bagging).value_counts(), columns=['Count'])\n",
    "display(top_predictors_bagging_df)"
   ]
  },
  {
   "cell_type": "markdown",
   "metadata": {},
   "source": [
    "Top predictor split on is always CVD... let's do Random Forest!"
   ]
  },
  {
   "cell_type": "markdown",
   "metadata": {},
   "source": [
    "**Random Forest Regression**\n"
   ]
  },
  {
   "cell_type": "code",
   "execution_count": 21,
   "metadata": {},
   "outputs": [],
   "source": [
    "n_trees = 60\n",
    "n_depth = 18\n",
    "\n",
    "# fit random forest model\n",
    "rf_model = RandomForestRegressor(n_estimators = n_trees, max_depth = n_depth, max_features='sqrt').fit(X_train_standardized, y_train)\n",
    "\n",
    "# evaluate model\n",
    "rf_train_score = rf_model.score(X_train_standardized, y_train)\n",
    "rf_test_score = rf_model.score(X_test_standardized, y_test)\n",
    "\n",
    "# predict on test\n",
    "rf_test_pred = rf_model.predict(X_test_standardized)"
   ]
  },
  {
   "cell_type": "code",
   "execution_count": 22,
   "metadata": {},
   "outputs": [
    {
     "data": {
      "text/plain": [
       "(0.9836299072656884, 0.9336238389047776)"
      ]
     },
     "execution_count": 22,
     "metadata": {},
     "output_type": "execute_result"
    }
   ],
   "source": [
    "rf_train_score, rf_test_score"
   ]
  },
  {
   "cell_type": "code",
   "execution_count": 24,
   "metadata": {},
   "outputs": [
    {
     "data": {
      "text/html": [
       "<div>\n",
       "<style scoped>\n",
       "    .dataframe tbody tr th:only-of-type {\n",
       "        vertical-align: middle;\n",
       "    }\n",
       "\n",
       "    .dataframe tbody tr th {\n",
       "        vertical-align: top;\n",
       "    }\n",
       "\n",
       "    .dataframe thead th {\n",
       "        text-align: right;\n",
       "    }\n",
       "</style>\n",
       "<table border=\"1\" class=\"dataframe\">\n",
       "  <thead>\n",
       "    <tr style=\"text-align: right;\">\n",
       "      <th></th>\n",
       "      <th>Counts</th>\n",
       "    </tr>\n",
       "  </thead>\n",
       "  <tbody>\n",
       "    <tr>\n",
       "      <th>Ischemic_stroke_pdx2dx_25</th>\n",
       "      <td>10</td>\n",
       "    </tr>\n",
       "    <tr>\n",
       "      <th>CVD_pdx2dx_25</th>\n",
       "      <td>9</td>\n",
       "    </tr>\n",
       "    <tr>\n",
       "      <th>Alzheimer_pdx2dx_25</th>\n",
       "      <td>6</td>\n",
       "    </tr>\n",
       "    <tr>\n",
       "      <th>DM_pdx2dx_25</th>\n",
       "      <td>5</td>\n",
       "    </tr>\n",
       "    <tr>\n",
       "      <th>CHF_pdx2dx_25</th>\n",
       "      <td>4</td>\n",
       "    </tr>\n",
       "    <tr>\n",
       "      <th>Parkinson_pdx2dx_25</th>\n",
       "      <td>3</td>\n",
       "    </tr>\n",
       "    <tr>\n",
       "      <th>Stroke_pdx2dx_25</th>\n",
       "      <td>3</td>\n",
       "    </tr>\n",
       "    <tr>\n",
       "      <th>COPD_pdx2dx_25</th>\n",
       "      <td>3</td>\n",
       "    </tr>\n",
       "    <tr>\n",
       "      <th>neo_239</th>\n",
       "      <td>3</td>\n",
       "    </tr>\n",
       "    <tr>\n",
       "      <th>Dementia_pdx2dx_25</th>\n",
       "      <td>3</td>\n",
       "    </tr>\n",
       "    <tr>\n",
       "      <th>ICU_DAY</th>\n",
       "      <td>2</td>\n",
       "    </tr>\n",
       "    <tr>\n",
       "      <th>neo_200_209</th>\n",
       "      <td>2</td>\n",
       "    </tr>\n",
       "    <tr>\n",
       "      <th>neo_210_229</th>\n",
       "      <td>1</td>\n",
       "    </tr>\n",
       "    <tr>\n",
       "      <th>neo_150_159</th>\n",
       "      <td>1</td>\n",
       "    </tr>\n",
       "    <tr>\n",
       "      <th>neo_190_199</th>\n",
       "      <td>1</td>\n",
       "    </tr>\n",
       "    <tr>\n",
       "      <th>neo_160_165</th>\n",
       "      <td>1</td>\n",
       "    </tr>\n",
       "    <tr>\n",
       "      <th>CCI_DAY</th>\n",
       "      <td>1</td>\n",
       "    </tr>\n",
       "    <tr>\n",
       "      <th>AMI_pdx2dx_25</th>\n",
       "      <td>1</td>\n",
       "    </tr>\n",
       "    <tr>\n",
       "      <th>race_4</th>\n",
       "      <td>1</td>\n",
       "    </tr>\n",
       "  </tbody>\n",
       "</table>\n",
       "</div>"
      ],
      "text/plain": [
       "                           Counts\n",
       "Ischemic_stroke_pdx2dx_25      10\n",
       "CVD_pdx2dx_25                   9\n",
       "Alzheimer_pdx2dx_25             6\n",
       "DM_pdx2dx_25                    5\n",
       "CHF_pdx2dx_25                   4\n",
       "Parkinson_pdx2dx_25             3\n",
       "Stroke_pdx2dx_25                3\n",
       "COPD_pdx2dx_25                  3\n",
       "neo_239                         3\n",
       "Dementia_pdx2dx_25              3\n",
       "ICU_DAY                         2\n",
       "neo_200_209                     2\n",
       "neo_210_229                     1\n",
       "neo_150_159                     1\n",
       "neo_190_199                     1\n",
       "neo_160_165                     1\n",
       "CCI_DAY                         1\n",
       "AMI_pdx2dx_25                   1\n",
       "race_4                          1"
      ]
     },
     "execution_count": 24,
     "metadata": {},
     "output_type": "execute_result"
    }
   ],
   "source": [
    "cols = X_train_standardized.columns\n",
    "top_pred = [cols[rf_model.estimators_[i].tree_.feature[0]] for i in range(n_trees)]\n",
    "\n",
    "pd.DataFrame(pd.Series(top_pred).value_counts(), columns=['Counts'])"
   ]
  },
  {
   "cell_type": "code",
   "execution_count": null,
   "metadata": {},
   "outputs": [],
   "source": [
    "# grid search and cross validation on random forest\n",
    "# https://medium.com/datadriveninvestor/random-forest-regression-9871bc9a25eb\n",
    "\n",
    "# VISUALIZE TREE\n",
    "# https://towardsdatascience.com/how-to-visualize-a-decision-tree-from-a-random-forest-in-python-using-scikit-learn-38ad2d75f21c"
   ]
  },
  {
   "cell_type": "markdown",
   "metadata": {},
   "source": [
    "Grid Search Code \n",
    "\n",
    "- This takes forever to run, but will help you find optimal parameters"
   ]
  },
  {
   "cell_type": "code",
   "execution_count": 9,
   "metadata": {},
   "outputs": [],
   "source": [
    "gsr = GridSearchCV(\n",
    "        estimator = RandomForestRegressor(),\n",
    "        param_grid={'max_depth': range(10,15),'n_estimators': (30,40,50,60)}),\n",
    "        cv=5)\n",
    "\n",
    "gsr_fitted = gsr.fit(X_train_standardized, y_train)\n",
    "best_params = gsr_fitted.best_params_"
   ]
  },
  {
   "cell_type": "markdown",
   "metadata": {},
   "source": [
    "**Boosting and ADA Boost**"
   ]
  },
  {
   "cell_type": "code",
   "execution_count": 15,
   "metadata": {},
   "outputs": [
    {
     "data": {
      "text/plain": [
       "<matplotlib.legend.Legend at 0x2aeb6d45b588>"
      ]
     },
     "execution_count": 15,
     "metadata": {},
     "output_type": "execute_result"
    },
    {
     "data": {
      "image/png": "[encoded data removed]",
      "text/plain": [
       "<Figure size 432x288 with 1 Axes>"
      ]
     },
     "metadata": {
      "needs_background": "light"
     },
     "output_type": "display_data"
    }
   ],
   "source": [
    "fitted_ada = AdaBoostRegressor(\n",
    "    base_estimator=DecisionTreeRegressor(max_depth=5),\n",
    "    n_estimators=300,\n",
    "    learning_rate=0.05).fit(X_train_standardized, y_train)\n",
    "\n",
    "train_scores = list(fitted_ada.staged_score(X_train_standardized, y_train))\n",
    "test_scores = list(fitted_ada.staged_score(X_test_standardized, y_test))\n",
    "\n",
    "plt.plot(train_scores,label='train')\n",
    "plt.plot(test_scores,label='test')\n",
    "plt.xlabel('Iteration')\n",
    "plt.ylabel('Accuracy')\n",
    "plt.title(\"Accuracy of AdaBoost as Training Progresses\")\n",
    "plt.legend()"
   ]
  },
  {
   "cell_type": "code",
   "execution_count": 16,
   "metadata": {},
   "outputs": [
    {
     "data": {
      "text/plain": [
       "(0.8940957607075577, 0.8904294697141126)"
      ]
     },
     "execution_count": 16,
     "metadata": {},
     "output_type": "execute_result"
    }
   ],
   "source": [
    "max(train_scores), max(test_scores)"
   ]
  },
  {
   "cell_type": "markdown",
   "metadata": {},
   "source": [
    "Gradient Boosting (Regressor)\n",
    "\n",
    "https://blog.paperspace.com/implementing-gradient-boosting-regression-python/\n",
    "\n",
    "https://scikit-learn.org/stable/auto_examples/ensemble/plot_gradient_boosting_regression.html"
   ]
  },
  {
   "cell_type": "code",
   "execution_count": 22,
   "metadata": {},
   "outputs": [
    {
     "data": {
      "text/plain": [
       "GradientBoostingRegressor(max_depth=10, max_features='sqrt', n_estimators=200)"
      ]
     },
     "execution_count": 22,
     "metadata": {},
     "output_type": "execute_result"
    }
   ],
   "source": [
    "gbr_model = GradientBoostingRegressor(learning_rate=0.1,n_estimators=200, max_depth=10,max_features='sqrt')\n",
    "gbr_model.fit(X_train_standardized, y_train)"
   ]
  },
  {
   "cell_type": "code",
   "execution_count": 23,
   "metadata": {},
   "outputs": [
    {
     "data": {
      "text/plain": [
       "0.9558188885929826"
      ]
     },
     "execution_count": 23,
     "metadata": {},
     "output_type": "execute_result"
    }
   ],
   "source": [
    "# test score\n",
    "gbr_model.score(X_test_standardized, y_test)"
   ]
  },
  {
   "cell_type": "code",
   "execution_count": 38,
   "metadata": {},
   "outputs": [
    {
     "data": {
      "text/plain": [
       "0.9949337075381884"
      ]
     },
     "execution_count": 38,
     "metadata": {},
     "output_type": "execute_result"
    }
   ],
   "source": [
    "# train score\n",
    "gbr_model.score(X_train_standardized, y_train)"
   ]
  },
  {
   "cell_type": "code",
   "execution_count": 39,
   "metadata": {},
   "outputs": [],
   "source": [
    "gbr_train_score = np.zeros((200,), dtype=np.float64)\n",
    "for i, y_pred in enumerate(gbr_model.staged_predict(X_train_standardized)):\n",
    "    gbr_train_score[i] = r2_score(y_train, y_pred)\n",
    "    \n",
    "gbr_test_score = np.zeros((200,), dtype=np.float64)\n",
    "for i, y_pred in enumerate(gbr_model.staged_predict(X_test_standardized)):\n",
    "    gbr_test_score[i] = r2_score(y_test, y_pred)\n",
    "    "
   ]
  },
  {
   "cell_type": "code",
   "execution_count": 41,
   "metadata": {},
   "outputs": [
    {
     "data": {
      "image/png": "[encoded data removed]",
      "text/plain": [
       "<Figure size 576x360 with 1 Axes>"
      ]
     },
     "metadata": {
      "needs_background": "light"
     },
     "output_type": "display_data"
    }
   ],
   "source": [
    "f, ax = plt.subplots(1, figsize=(8,5))\n",
    "ax.plot(gbr_train_score,label='train')\n",
    "ax.plot(gbr_test_score,label='test')\n",
    "ax.set_xlabel('Iteration')\n",
    "ax.set_ylabel('ACcuracy')\n",
    "ax.set_title(\"GBR Accuracy\")\n",
    "plt.legend()\n",
    "plt.show()\n",
    "# f.savefig('gbr_results.png')"
   ]
  },
  {
   "cell_type": "code",
   "execution_count": 37,
   "metadata": {},
   "outputs": [
    {
     "data": {
      "text/plain": [
       "Text(0.5, 1.0, 'Feature Importance (MDI)')"
      ]
     },
     "execution_count": 37,
     "metadata": {},
     "output_type": "execute_result"
    },
    {
     "data": {
      "image/png": "[encoded data removed]",
      "text/plain": [
       "<Figure size 2160x720 with 1 Axes>"
      ]
     },
     "metadata": {
      "needs_background": "light"
     },
     "output_type": "display_data"
    }
   ],
   "source": [
    "gbr_feature_importance = gbr_model.feature_importances_\n",
    "sorted_idx = np.argsort(gbr_feature_importance)\n",
    "pos = np.arange(sorted_idx.shape[0]) + .5\n",
    "fig = plt.figure(figsize=(30, 10))\n",
    "plt.subplot(1, 2, 1)\n",
    "plt.barh(pos, gbr_feature_importance[sorted_idx], align='center')\n",
    "plt.yticks(pos, np.array(X_train_standardized.columns)[sorted_idx])\n",
    "plt.title('Feature Importance (MDI)')"
   ]
  },
  {
   "cell_type": "markdown",
   "metadata": {},
   "source": [
    "Looks like stroke, CVD, and neoplasms related to Genitourinary Organs are top predictors "
   ]
  },
  {
   "cell_type": "code",
   "execution_count": null,
   "metadata": {},
   "outputs": [],
   "source": []
  }
 ],
 "metadata": {
  "kernelspec": {
   "display_name": "Python 3",
   "language": "python",
   "name": "python3"
  },
  "language_info": {
   "codemirror_mode": {
    "name": "ipython",
    "version": 3
   },
   "file_extension": ".py",
   "mimetype": "text/x-python",
   "name": "python",
   "nbconvert_exporter": "python",
   "pygments_lexer": "ipython3",
   "version": "3.8.6"
  }
 },
 "nbformat": 4,
 "nbformat_minor": 4
}
